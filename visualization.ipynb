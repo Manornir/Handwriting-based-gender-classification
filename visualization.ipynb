{
  "nbformat": 4,
  "nbformat_minor": 0,
  "metadata": {
    "colab": {
      "provenance": []
    },
    "kernelspec": {
      "name": "python3",
      "display_name": "Python 3"
    },
    "language_info": {
      "name": "python"
    }
  },
  "cells": [
    {
      "cell_type": "code",
      "execution_count": 22,
      "metadata": {
        "id": "0oMu1Hs3xixP"
      },
      "outputs": [],
      "source": [
        "import pandas as pd\n",
        "import seaborn as sns\n",
        "import matplotlib.pyplot as plt"
      ]
    },
    {
      "cell_type": "code",
      "source": [
        "writers = pd.read_csv('https://raw.githubusercontent.com/samerabufoul/MLDL-project/main/Writers%20data.csv?token=GHSAT0AAAAAAB7GHCXY74R7GGCHEAB5ZBXKY73TGPQ',index_col = 0)"
      ],
      "metadata": {
        "id": "nM8GXwKzxwBa"
      },
      "execution_count": 4,
      "outputs": []
    },
    {
      "cell_type": "code",
      "source": [
        "lines = pd.read_csv('https://raw.githubusercontent.com/samerabufoul/MLDL-project/main/lines%20writer.csv?token=GHSAT0AAAAAAB7GHCXYBYHPSRAYUXXCZMKWY73TG2A', index_col = 0)"
      ],
      "metadata": {
        "id": "2Lo3Q0ZRxxyV"
      },
      "execution_count": 5,
      "outputs": []
    },
    {
      "cell_type": "code",
      "source": [
        "paragraph = pd.read_csv('https://raw.githubusercontent.com/samerabufoul/MLDL-project/main/writers%20images.csv?token=GHSAT0AAAAAAB7GHCXZZ2BBY4JFMABSP7UWY73THYA', index_col = 1)"
      ],
      "metadata": {
        "id": "t5ZvUv0W0AJQ"
      },
      "execution_count": 6,
      "outputs": []
    },
    {
      "cell_type": "code",
      "source": [
        "lines_class = pd.read_csv('https://raw.githubusercontent.com/samerabufoul/MLDL-project/main/npy%20data/classification%20table/line%20classification.csv?token=GHSAT0AAAAAAB7GHCXY5DX5IFJJLHZ6QEX6Y73TK3Q')"
      ],
      "metadata": {
        "id": "D83TAYNV0LR4"
      },
      "execution_count": 8,
      "outputs": []
    },
    {
      "cell_type": "code",
      "source": [
        "paragraph_class = pd.read_csv('https://raw.githubusercontent.com/samerabufoul/MLDL-project/main/npy%20data/classification%20table/paragraph%20classification.csv?token=GHSAT0AAAAAAB7GHCXZNTNFY6ELSTXOT7AIY73TKDA')"
      ],
      "metadata": {
        "id": "MQaHyqL50VMW"
      },
      "execution_count": 7,
      "outputs": []
    },
    {
      "cell_type": "markdown",
      "source": [
        "# Writers"
      ],
      "metadata": {
        "id": "Qaqz5yYw1JEz"
      }
    },
    {
      "cell_type": "code",
      "source": [
        "writers"
      ],
      "metadata": {
        "colab": {
          "base_uri": "https://localhost:8080/",
          "height": 455
        },
        "id": "tMD49wA61LvV",
        "outputId": "c7ea88ac-5784-49e8-a333-9e31bbe4f97b"
      },
      "execution_count": 9,
      "outputs": [
        {
          "output_type": "execute_result",
          "data": {
            "text/plain": [
              "     Gender   WritingType NativeLanguage     EducationalDegree1\n",
              "Id                                                             \n",
              "1000      F  Right-handed         German                  Matur\n",
              "1001      M  Right-handed   Swiss German                     FH\n",
              "1002      M  Right-handed   Swiss German                  Matur\n",
              "1003      M  Right-handed   Swiss German                     FH\n",
              "1004      M  Right-handed   Swiss German             Licentiate\n",
              "...     ...           ...            ...                    ...\n",
              "1667      F  Right-handed   Swiss German                  Matur\n",
              "1668      F  Right-handed   Swiss German                    NaN\n",
              "1669      F  Right-handed         German             Licentiate\n",
              "1670      F  Right-handed   Swiss German                  Matur\n",
              "1671      M  Right-handed        Finnish  Licence en traduction\n",
              "\n",
              "[657 rows x 4 columns]"
            ],
            "text/html": [
              "\n",
              "  <div id=\"df-7a4ea482-0578-4987-9f4a-adfb2297c86d\">\n",
              "    <div class=\"colab-df-container\">\n",
              "      <div>\n",
              "<style scoped>\n",
              "    .dataframe tbody tr th:only-of-type {\n",
              "        vertical-align: middle;\n",
              "    }\n",
              "\n",
              "    .dataframe tbody tr th {\n",
              "        vertical-align: top;\n",
              "    }\n",
              "\n",
              "    .dataframe thead th {\n",
              "        text-align: right;\n",
              "    }\n",
              "</style>\n",
              "<table border=\"1\" class=\"dataframe\">\n",
              "  <thead>\n",
              "    <tr style=\"text-align: right;\">\n",
              "      <th></th>\n",
              "      <th>Gender</th>\n",
              "      <th>WritingType</th>\n",
              "      <th>NativeLanguage</th>\n",
              "      <th>EducationalDegree1</th>\n",
              "    </tr>\n",
              "    <tr>\n",
              "      <th>Id</th>\n",
              "      <th></th>\n",
              "      <th></th>\n",
              "      <th></th>\n",
              "      <th></th>\n",
              "    </tr>\n",
              "  </thead>\n",
              "  <tbody>\n",
              "    <tr>\n",
              "      <th>1000</th>\n",
              "      <td>F</td>\n",
              "      <td>Right-handed</td>\n",
              "      <td>German</td>\n",
              "      <td>Matur</td>\n",
              "    </tr>\n",
              "    <tr>\n",
              "      <th>1001</th>\n",
              "      <td>M</td>\n",
              "      <td>Right-handed</td>\n",
              "      <td>Swiss German</td>\n",
              "      <td>FH</td>\n",
              "    </tr>\n",
              "    <tr>\n",
              "      <th>1002</th>\n",
              "      <td>M</td>\n",
              "      <td>Right-handed</td>\n",
              "      <td>Swiss German</td>\n",
              "      <td>Matur</td>\n",
              "    </tr>\n",
              "    <tr>\n",
              "      <th>1003</th>\n",
              "      <td>M</td>\n",
              "      <td>Right-handed</td>\n",
              "      <td>Swiss German</td>\n",
              "      <td>FH</td>\n",
              "    </tr>\n",
              "    <tr>\n",
              "      <th>1004</th>\n",
              "      <td>M</td>\n",
              "      <td>Right-handed</td>\n",
              "      <td>Swiss German</td>\n",
              "      <td>Licentiate</td>\n",
              "    </tr>\n",
              "    <tr>\n",
              "      <th>...</th>\n",
              "      <td>...</td>\n",
              "      <td>...</td>\n",
              "      <td>...</td>\n",
              "      <td>...</td>\n",
              "    </tr>\n",
              "    <tr>\n",
              "      <th>1667</th>\n",
              "      <td>F</td>\n",
              "      <td>Right-handed</td>\n",
              "      <td>Swiss German</td>\n",
              "      <td>Matur</td>\n",
              "    </tr>\n",
              "    <tr>\n",
              "      <th>1668</th>\n",
              "      <td>F</td>\n",
              "      <td>Right-handed</td>\n",
              "      <td>Swiss German</td>\n",
              "      <td>NaN</td>\n",
              "    </tr>\n",
              "    <tr>\n",
              "      <th>1669</th>\n",
              "      <td>F</td>\n",
              "      <td>Right-handed</td>\n",
              "      <td>German</td>\n",
              "      <td>Licentiate</td>\n",
              "    </tr>\n",
              "    <tr>\n",
              "      <th>1670</th>\n",
              "      <td>F</td>\n",
              "      <td>Right-handed</td>\n",
              "      <td>Swiss German</td>\n",
              "      <td>Matur</td>\n",
              "    </tr>\n",
              "    <tr>\n",
              "      <th>1671</th>\n",
              "      <td>M</td>\n",
              "      <td>Right-handed</td>\n",
              "      <td>Finnish</td>\n",
              "      <td>Licence en traduction</td>\n",
              "    </tr>\n",
              "  </tbody>\n",
              "</table>\n",
              "<p>657 rows × 4 columns</p>\n",
              "</div>\n",
              "      <button class=\"colab-df-convert\" onclick=\"convertToInteractive('df-7a4ea482-0578-4987-9f4a-adfb2297c86d')\"\n",
              "              title=\"Convert this dataframe to an interactive table.\"\n",
              "              style=\"display:none;\">\n",
              "        \n",
              "  <svg xmlns=\"http://www.w3.org/2000/svg\" height=\"24px\"viewBox=\"0 0 24 24\"\n",
              "       width=\"24px\">\n",
              "    <path d=\"M0 0h24v24H0V0z\" fill=\"none\"/>\n",
              "    <path d=\"M18.56 5.44l.94 2.06.94-2.06 2.06-.94-2.06-.94-.94-2.06-.94 2.06-2.06.94zm-11 1L8.5 8.5l.94-2.06 2.06-.94-2.06-.94L8.5 2.5l-.94 2.06-2.06.94zm10 10l.94 2.06.94-2.06 2.06-.94-2.06-.94-.94-2.06-.94 2.06-2.06.94z\"/><path d=\"M17.41 7.96l-1.37-1.37c-.4-.4-.92-.59-1.43-.59-.52 0-1.04.2-1.43.59L10.3 9.45l-7.72 7.72c-.78.78-.78 2.05 0 2.83L4 21.41c.39.39.9.59 1.41.59.51 0 1.02-.2 1.41-.59l7.78-7.78 2.81-2.81c.8-.78.8-2.07 0-2.86zM5.41 20L4 18.59l7.72-7.72 1.47 1.35L5.41 20z\"/>\n",
              "  </svg>\n",
              "      </button>\n",
              "      \n",
              "  <style>\n",
              "    .colab-df-container {\n",
              "      display:flex;\n",
              "      flex-wrap:wrap;\n",
              "      gap: 12px;\n",
              "    }\n",
              "\n",
              "    .colab-df-convert {\n",
              "      background-color: #E8F0FE;\n",
              "      border: none;\n",
              "      border-radius: 50%;\n",
              "      cursor: pointer;\n",
              "      display: none;\n",
              "      fill: #1967D2;\n",
              "      height: 32px;\n",
              "      padding: 0 0 0 0;\n",
              "      width: 32px;\n",
              "    }\n",
              "\n",
              "    .colab-df-convert:hover {\n",
              "      background-color: #E2EBFA;\n",
              "      box-shadow: 0px 1px 2px rgba(60, 64, 67, 0.3), 0px 1px 3px 1px rgba(60, 64, 67, 0.15);\n",
              "      fill: #174EA6;\n",
              "    }\n",
              "\n",
              "    [theme=dark] .colab-df-convert {\n",
              "      background-color: #3B4455;\n",
              "      fill: #D2E3FC;\n",
              "    }\n",
              "\n",
              "    [theme=dark] .colab-df-convert:hover {\n",
              "      background-color: #434B5C;\n",
              "      box-shadow: 0px 1px 3px 1px rgba(0, 0, 0, 0.15);\n",
              "      filter: drop-shadow(0px 1px 2px rgba(0, 0, 0, 0.3));\n",
              "      fill: #FFFFFF;\n",
              "    }\n",
              "  </style>\n",
              "\n",
              "      <script>\n",
              "        const buttonEl =\n",
              "          document.querySelector('#df-7a4ea482-0578-4987-9f4a-adfb2297c86d button.colab-df-convert');\n",
              "        buttonEl.style.display =\n",
              "          google.colab.kernel.accessAllowed ? 'block' : 'none';\n",
              "\n",
              "        async function convertToInteractive(key) {\n",
              "          const element = document.querySelector('#df-7a4ea482-0578-4987-9f4a-adfb2297c86d');\n",
              "          const dataTable =\n",
              "            await google.colab.kernel.invokeFunction('convertToInteractive',\n",
              "                                                     [key], {});\n",
              "          if (!dataTable) return;\n",
              "\n",
              "          const docLinkHtml = 'Like what you see? Visit the ' +\n",
              "            '<a target=\"_blank\" href=https://colab.research.google.com/notebooks/data_table.ipynb>data table notebook</a>'\n",
              "            + ' to learn more about interactive tables.';\n",
              "          element.innerHTML = '';\n",
              "          dataTable['output_type'] = 'display_data';\n",
              "          await google.colab.output.renderOutput(dataTable, element);\n",
              "          const docLink = document.createElement('div');\n",
              "          docLink.innerHTML = docLinkHtml;\n",
              "          element.appendChild(docLink);\n",
              "        }\n",
              "      </script>\n",
              "    </div>\n",
              "  </div>\n",
              "  "
            ]
          },
          "metadata": {},
          "execution_count": 9
        }
      ]
    },
    {
      "cell_type": "code",
      "source": [
        "def row_gender_writing_type(row):\n",
        "    if (row['Gender'] == 'M') and (row['WritingType'] == 'Right-handed'):\n",
        "      return 'Right-handed Male'\n",
        "    if (row['Gender'] == 'M') and (row['WritingType'] == 'Left-handed'):\n",
        "      return 'Left-handed Male'\n",
        "    if (row['Gender'] == 'F') and (row['WritingType'] == 'Right-handed'):\n",
        "      return 'Right-handed Female'\n",
        "    if (row['Gender'] == 'F') and (row['WritingType'] == 'Left-handed'):\n",
        "      return 'Left-handed Female'"
      ],
      "metadata": {
        "id": "f1Eqn8Uz1trg"
      },
      "execution_count": 10,
      "outputs": []
    },
    {
      "cell_type": "code",
      "source": [
        "writers['GenderWritingType'] = writers.apply(lambda row: row_gender_writing_type(row), axis=1)\n"
      ],
      "metadata": {
        "id": "VCNHzBoa237h"
      },
      "execution_count": 11,
      "outputs": []
    },
    {
      "cell_type": "code",
      "source": [
        "for i in writers.columns:\n",
        "  writers[i] = writers[i].astype('category')"
      ],
      "metadata": {
        "id": "5WVh54LU39Ch"
      },
      "execution_count": 19,
      "outputs": []
    },
    {
      "cell_type": "code",
      "source": [
        "writers['Gender'] = writers['Gender'].cat.rename_categories({'M':'Male','F':'Female'})"
      ],
      "metadata": {
        "id": "1670BSuf4dDB"
      },
      "execution_count": 20,
      "outputs": []
    },
    {
      "cell_type": "code",
      "source": [
        "fig, ax =plt.subplots(1,2,figsize=(8,6))\n",
        "sns.countplot(writers['Gender'], ax=ax[0])\n",
        "sns.countplot(writers['WritingType'], ax=ax[1])\n",
        "#sns.countplot(writers['GenderWritingType'], ax=ax[2])\n",
        "fig.show()"
      ],
      "metadata": {
        "colab": {
          "base_uri": "https://localhost:8080/",
          "height": 390
        },
        "id": "oFli-TM08nj1",
        "outputId": "73a5fd8c-0a5f-4ff4-c1d3-41276663ed5d"
      },
      "execution_count": 33,
      "outputs": [
        {
          "output_type": "display_data",
          "data": {
            "text/plain": [
              "<Figure size 576x432 with 2 Axes>"
            ],
            "image/png": "[encoded data removed]"
          },
          "metadata": {
            "needs_background": "light"
          }
        }
      ]
    },
    {
      "cell_type": "code",
      "source": [
        "sns.set(rc={\"figure.figsize\":(8, 6)}) \n",
        "sns.countplot(data=writers, x='Gender', hue='WritingType')"
      ],
      "metadata": {
        "colab": {
          "base_uri": "https://localhost:8080/",
          "height": 411
        },
        "id": "Gasv_2j-901C",
        "outputId": "57332c47-452f-4e9a-c72d-84c328acc227"
      },
      "execution_count": 37,
      "outputs": [
        {
          "output_type": "execute_result",
          "data": {
            "text/plain": [
              "<AxesSubplot:xlabel='Gender', ylabel='count'>"
            ]
          },
          "metadata": {},
          "execution_count": 37
        },
        {
          "output_type": "display_data",
          "data": {
            "text/plain": [
              "<Figure size 576x432 with 1 Axes>"
            ],
            "image/png": "[encoded data removed]"
          },
          "metadata": {}
        }
      ]
    },
    {
      "cell_type": "code",
      "source": [
        "sns.set(rc={\"figure.figsize\":(20, 6)}) \n",
        "sns.countplot(data=writers, x='NativeLanguage', hue='Gender')"
      ],
      "metadata": {
        "colab": {
          "base_uri": "https://localhost:8080/",
          "height": 411
        },
        "id": "wjBxPIUw-8Iv",
        "outputId": "b5f7d13c-2d53-465c-89a5-268847be3564"
      },
      "execution_count": 41,
      "outputs": [
        {
          "output_type": "execute_result",
          "data": {
            "text/plain": [
              "<AxesSubplot:xlabel='NativeLanguage', ylabel='count'>"
            ]
          },
          "metadata": {},
          "execution_count": 41
        },
        {
          "output_type": "display_data",
          "data": {
            "text/plain": [
              "<Figure size 1440x432 with 1 Axes>"
            ],
            "image/png": "[encoded data removed]"
          },
          "metadata": {}
        }
      ]
    },
    {
      "cell_type": "code",
      "source": [
        "sns.countplot(writers['EducationalDegree1'])"
      ],
      "metadata": {
        "colab": {
          "base_uri": "https://localhost:8080/",
          "height": 466
        },
        "id": "GZwacPkI_4nG",
        "outputId": "e329b55b-1c35-4ef6-bb5e-1dc8f08df977"
      },
      "execution_count": 42,
      "outputs": [
        {
          "output_type": "stream",
          "name": "stderr",
          "text": [
            "/usr/local/lib/python3.8/dist-packages/seaborn/_decorators.py:36: FutureWarning: Pass the following variable as a keyword arg: x. From version 0.12, the only valid positional argument will be `data`, and passing other arguments without an explicit keyword will result in an error or misinterpretation.\n",
            "  warnings.warn(\n"
          ]
        },
        {
          "output_type": "execute_result",
          "data": {
            "text/plain": [
              "<AxesSubplot:xlabel='EducationalDegree1', ylabel='count'>"
            ]
          },
          "metadata": {},
          "execution_count": 42
        },
        {
          "output_type": "display_data",
          "data": {
            "text/plain": [
              "<Figure size 1440x432 with 1 Axes>"
            ],
            "image/png": "[encoded data removed]"
          },
          "metadata": {}
        }
      ]
    },
    {
      "cell_type": "markdown",
      "source": [
        "#Lines Dataset"
      ],
      "metadata": {
        "id": "6n7PIwm_A1vw"
      }
    },
    {
      "cell_type": "code",
      "source": [
        "def label(df: pd.DataFrame)-> pd.DataFrame:\n",
        "  df['gender'] = df['gender'].astype('category')\n",
        "  df['writing'] = df['writing'].astype('category')\n",
        "  df['gender'] = df['gender'].cat.rename_categories({0:'Male',1:'Female'})\n",
        "  df['writing'] = df['writing'].cat.rename_categories({0:'Right-handed Male',1:'Left-handed Male',2:'Right-handed Female',3:'Left-handed Female'})\n",
        "  return df"
      ],
      "metadata": {
        "id": "HHULRo24CmJe"
      },
      "execution_count": 50,
      "outputs": []
    },
    {
      "cell_type": "code",
      "source": [
        "lines_class = label(lines_class)"
      ],
      "metadata": {
        "id": "9U5tgN9bDrjO"
      },
      "execution_count": 52,
      "outputs": []
    },
    {
      "cell_type": "code",
      "source": [
        "lines_class"
      ],
      "metadata": {
        "colab": {
          "base_uri": "https://localhost:8080/",
          "height": 423
        },
        "id": "qpDptCRyEQTz",
        "outputId": "9a42147a-8d58-4a6b-8d58-9ef7e6b50d45"
      },
      "execution_count": 53,
      "outputs": [
        {
          "output_type": "execute_result",
          "data": {
            "text/plain": [
              "       Unnamed: 0                                              image  \\\n",
              "0               0  /content/drive/MyDrive/lines folder/p02-022-07...   \n",
              "1               1  /content/drive/MyDrive/lines folder/p02-022-03...   \n",
              "2               2  /content/drive/MyDrive/lines folder/p02-027-01...   \n",
              "3               3  /content/drive/MyDrive/lines folder/p02-027-02...   \n",
              "4               4  /content/drive/MyDrive/lines folder/p02-027-03...   \n",
              "...           ...                                                ...   \n",
              "13348       13348  /content/drive/MyDrive/lines folder/a01-058x-0...   \n",
              "13349       13349  /content/drive/MyDrive/lines folder/a01-058x-0...   \n",
              "13350       13350  /content/drive/MyDrive/lines folder/a01-058x-0...   \n",
              "13351       13351  /content/drive/MyDrive/lines folder/a01-058x-0...   \n",
              "13352       13352  /content/drive/MyDrive/lines folder/a01-058x-0...   \n",
              "\n",
              "                   writing  gender  \n",
              "0      Right-handed Female  Female  \n",
              "1      Right-handed Female  Female  \n",
              "2        Right-handed Male    Male  \n",
              "3        Right-handed Male    Male  \n",
              "4        Right-handed Male    Male  \n",
              "...                    ...     ...  \n",
              "13348   Left-handed Female  Female  \n",
              "13349   Left-handed Female  Female  \n",
              "13350   Left-handed Female  Female  \n",
              "13351   Left-handed Female  Female  \n",
              "13352   Left-handed Female  Female  \n",
              "\n",
              "[13353 rows x 4 columns]"
            ],
            "text/html": [
              "\n",
              "  <div id=\"df-c4825090-5b81-4938-979c-0afd69d04de1\">\n",
              "    <div class=\"colab-df-container\">\n",
              "      <div>\n",
              "<style scoped>\n",
              "    .dataframe tbody tr th:only-of-type {\n",
              "        vertical-align: middle;\n",
              "    }\n",
              "\n",
              "    .dataframe tbody tr th {\n",
              "        vertical-align: top;\n",
              "    }\n",
              "\n",
              "    .dataframe thead th {\n",
              "        text-align: right;\n",
              "    }\n",
              "</style>\n",
              "<table border=\"1\" class=\"dataframe\">\n",
              "  <thead>\n",
              "    <tr style=\"text-align: right;\">\n",
              "      <th></th>\n",
              "      <th>Unnamed: 0</th>\n",
              "      <th>image</th>\n",
              "      <th>writing</th>\n",
              "      <th>gender</th>\n",
              "    </tr>\n",
              "  </thead>\n",
              "  <tbody>\n",
              "    <tr>\n",
              "      <th>0</th>\n",
              "      <td>0</td>\n",
              "      <td>/content/drive/MyDrive/lines folder/p02-022-07...</td>\n",
              "      <td>Right-handed Female</td>\n",
              "      <td>Female</td>\n",
              "    </tr>\n",
              "    <tr>\n",
              "      <th>1</th>\n",
              "      <td>1</td>\n",
              "      <td>/content/drive/MyDrive/lines folder/p02-022-03...</td>\n",
              "      <td>Right-handed Female</td>\n",
              "      <td>Female</td>\n",
              "    </tr>\n",
              "    <tr>\n",
              "      <th>2</th>\n",
              "      <td>2</td>\n",
              "      <td>/content/drive/MyDrive/lines folder/p02-027-01...</td>\n",
              "      <td>Right-handed Male</td>\n",
              "      <td>Male</td>\n",
              "    </tr>\n",
              "    <tr>\n",
              "      <th>3</th>\n",
              "      <td>3</td>\n",
              "      <td>/content/drive/MyDrive/lines folder/p02-027-02...</td>\n",
              "      <td>Right-handed Male</td>\n",
              "      <td>Male</td>\n",
              "    </tr>\n",
              "    <tr>\n",
              "      <th>4</th>\n",
              "      <td>4</td>\n",
              "      <td>/content/drive/MyDrive/lines folder/p02-027-03...</td>\n",
              "      <td>Right-handed Male</td>\n",
              "      <td>Male</td>\n",
              "    </tr>\n",
              "    <tr>\n",
              "      <th>...</th>\n",
              "      <td>...</td>\n",
              "      <td>...</td>\n",
              "      <td>...</td>\n",
              "      <td>...</td>\n",
              "    </tr>\n",
              "    <tr>\n",
              "      <th>13348</th>\n",
              "      <td>13348</td>\n",
              "      <td>/content/drive/MyDrive/lines folder/a01-058x-0...</td>\n",
              "      <td>Left-handed Female</td>\n",
              "      <td>Female</td>\n",
              "    </tr>\n",
              "    <tr>\n",
              "      <th>13349</th>\n",
              "      <td>13349</td>\n",
              "      <td>/content/drive/MyDrive/lines folder/a01-058x-0...</td>\n",
              "      <td>Left-handed Female</td>\n",
              "      <td>Female</td>\n",
              "    </tr>\n",
              "    <tr>\n",
              "      <th>13350</th>\n",
              "      <td>13350</td>\n",
              "      <td>/content/drive/MyDrive/lines folder/a01-058x-0...</td>\n",
              "      <td>Left-handed Female</td>\n",
              "      <td>Female</td>\n",
              "    </tr>\n",
              "    <tr>\n",
              "      <th>13351</th>\n",
              "      <td>13351</td>\n",
              "      <td>/content/drive/MyDrive/lines folder/a01-058x-0...</td>\n",
              "      <td>Left-handed Female</td>\n",
              "      <td>Female</td>\n",
              "    </tr>\n",
              "    <tr>\n",
              "      <th>13352</th>\n",
              "      <td>13352</td>\n",
              "      <td>/content/drive/MyDrive/lines folder/a01-058x-0...</td>\n",
              "      <td>Left-handed Female</td>\n",
              "      <td>Female</td>\n",
              "    </tr>\n",
              "  </tbody>\n",
              "</table>\n",
              "<p>13353 rows × 4 columns</p>\n",
              "</div>\n",
              "      <button class=\"colab-df-convert\" onclick=\"convertToInteractive('df-c4825090-5b81-4938-979c-0afd69d04de1')\"\n",
              "              title=\"Convert this dataframe to an interactive table.\"\n",
              "              style=\"display:none;\">\n",
              "        \n",
              "  <svg xmlns=\"http://www.w3.org/2000/svg\" height=\"24px\"viewBox=\"0 0 24 24\"\n",
              "       width=\"24px\">\n",
              "    <path d=\"M0 0h24v24H0V0z\" fill=\"none\"/>\n",
              "    <path d=\"M18.56 5.44l.94 2.06.94-2.06 2.06-.94-2.06-.94-.94-2.06-.94 2.06-2.06.94zm-11 1L8.5 8.5l.94-2.06 2.06-.94-2.06-.94L8.5 2.5l-.94 2.06-2.06.94zm10 10l.94 2.06.94-2.06 2.06-.94-2.06-.94-.94-2.06-.94 2.06-2.06.94z\"/><path d=\"M17.41 7.96l-1.37-1.37c-.4-.4-.92-.59-1.43-.59-.52 0-1.04.2-1.43.59L10.3 9.45l-7.72 7.72c-.78.78-.78 2.05 0 2.83L4 21.41c.39.39.9.59 1.41.59.51 0 1.02-.2 1.41-.59l7.78-7.78 2.81-2.81c.8-.78.8-2.07 0-2.86zM5.41 20L4 18.59l7.72-7.72 1.47 1.35L5.41 20z\"/>\n",
              "  </svg>\n",
              "      </button>\n",
              "      \n",
              "  <style>\n",
              "    .colab-df-container {\n",
              "      display:flex;\n",
              "      flex-wrap:wrap;\n",
              "      gap: 12px;\n",
              "    }\n",
              "\n",
              "    .colab-df-convert {\n",
              "      background-color: #E8F0FE;\n",
              "      border: none;\n",
              "      border-radius: 50%;\n",
              "      cursor: pointer;\n",
              "      display: none;\n",
              "      fill: #1967D2;\n",
              "      height: 32px;\n",
              "      padding: 0 0 0 0;\n",
              "      width: 32px;\n",
              "    }\n",
              "\n",
              "    .colab-df-convert:hover {\n",
              "      background-color: #E2EBFA;\n",
              "      box-shadow: 0px 1px 2px rgba(60, 64, 67, 0.3), 0px 1px 3px 1px rgba(60, 64, 67, 0.15);\n",
              "      fill: #174EA6;\n",
              "    }\n",
              "\n",
              "    [theme=dark] .colab-df-convert {\n",
              "      background-color: #3B4455;\n",
              "      fill: #D2E3FC;\n",
              "    }\n",
              "\n",
              "    [theme=dark] .colab-df-convert:hover {\n",
              "      background-color: #434B5C;\n",
              "      box-shadow: 0px 1px 3px 1px rgba(0, 0, 0, 0.15);\n",
              "      filter: drop-shadow(0px 1px 2px rgba(0, 0, 0, 0.3));\n",
              "      fill: #FFFFFF;\n",
              "    }\n",
              "  </style>\n",
              "\n",
              "      <script>\n",
              "        const buttonEl =\n",
              "          document.querySelector('#df-c4825090-5b81-4938-979c-0afd69d04de1 button.colab-df-convert');\n",
              "        buttonEl.style.display =\n",
              "          google.colab.kernel.accessAllowed ? 'block' : 'none';\n",
              "\n",
              "        async function convertToInteractive(key) {\n",
              "          const element = document.querySelector('#df-c4825090-5b81-4938-979c-0afd69d04de1');\n",
              "          const dataTable =\n",
              "            await google.colab.kernel.invokeFunction('convertToInteractive',\n",
              "                                                     [key], {});\n",
              "          if (!dataTable) return;\n",
              "\n",
              "          const docLinkHtml = 'Like what you see? Visit the ' +\n",
              "            '<a target=\"_blank\" href=https://colab.research.google.com/notebooks/data_table.ipynb>data table notebook</a>'\n",
              "            + ' to learn more about interactive tables.';\n",
              "          element.innerHTML = '';\n",
              "          dataTable['output_type'] = 'display_data';\n",
              "          await google.colab.output.renderOutput(dataTable, element);\n",
              "          const docLink = document.createElement('div');\n",
              "          docLink.innerHTML = docLinkHtml;\n",
              "          element.appendChild(docLink);\n",
              "        }\n",
              "      </script>\n",
              "    </div>\n",
              "  </div>\n",
              "  "
            ]
          },
          "metadata": {},
          "execution_count": 53
        }
      ]
    },
    {
      "cell_type": "code",
      "source": [
        "fig, ax =plt.subplots(1,2,figsize=(16,6))\n",
        "sns.countplot(lines_class['gender'], ax=ax[0])\n",
        "sns.countplot(lines_class['writing'], ax=ax[1])"
      ],
      "metadata": {
        "colab": {
          "base_uri": "https://localhost:8080/",
          "height": 411
        },
        "id": "vnfyzDoUEWGg",
        "outputId": "8cee133b-90d4-4c34-cc8d-bd9d7500328c"
      },
      "execution_count": 55,
      "outputs": [
        {
          "output_type": "execute_result",
          "data": {
            "text/plain": [
              "<AxesSubplot:xlabel='writing', ylabel='count'>"
            ]
          },
          "metadata": {},
          "execution_count": 55
        },
        {
          "output_type": "display_data",
          "data": {
            "text/plain": [
              "<Figure size 1152x432 with 2 Axes>"
            ],
            "image/png": "[encoded data removed]"
          },
          "metadata": {}
        }
      ]
    },
    {
      "cell_type": "code",
      "source": [
        "lines['Writer'] = lines['Writer'].astype('category')"
      ],
      "metadata": {
        "id": "f04_QPVwHUr1"
      },
      "execution_count": 56,
      "outputs": []
    },
    {
      "cell_type": "code",
      "source": [
        "sns.set(rc={\"figure.figsize\":(30, 6)}) \n",
        "sns.countplot(lines['Writer'].value_counts())"
      ],
      "metadata": {
        "colab": {
          "base_uri": "https://localhost:8080/",
          "height": 412
        },
        "id": "V7IU6aNUK7LB",
        "outputId": "c1c5b736-9d95-4e15-d520-a76fc72d23af"
      },
      "execution_count": 74,
      "outputs": [
        {
          "output_type": "stream",
          "name": "stderr",
          "text": [
            "/usr/local/lib/python3.8/dist-packages/seaborn/_decorators.py:36: FutureWarning: Pass the following variable as a keyword arg: x. From version 0.12, the only valid positional argument will be `data`, and passing other arguments without an explicit keyword will result in an error or misinterpretation.\n",
            "  warnings.warn(\n"
          ]
        },
        {
          "output_type": "execute_result",
          "data": {
            "text/plain": [
              "<AxesSubplot:xlabel='Writer', ylabel='count'>"
            ]
          },
          "metadata": {},
          "execution_count": 74
        },
        {
          "output_type": "display_data",
          "data": {
            "text/plain": [
              "<Figure size 2160x432 with 1 Axes>"
            ],
            "image/png": "[encoded data removed]"
          },
          "metadata": {}
        }
      ]
    },
    {
      "cell_type": "markdown",
      "source": [
        "#Paragraph"
      ],
      "metadata": {
        "id": "BrAegu4WIlVl"
      }
    },
    {
      "cell_type": "code",
      "source": [
        "paragraph_class = label(paragraph_class)"
      ],
      "metadata": {
        "id": "FxlW5ARoIqN2"
      },
      "execution_count": 59,
      "outputs": []
    },
    {
      "cell_type": "code",
      "source": [
        "fig, ax =plt.subplots(1,2,figsize=(16,6))\n",
        "sns.countplot(paragraph_class['gender'], ax=ax[0])\n",
        "sns.countplot(paragraph_class['writing'], ax=ax[1])"
      ],
      "metadata": {
        "colab": {
          "base_uri": "https://localhost:8080/",
          "height": 466
        },
        "id": "3kWRIPcbIvjj",
        "outputId": "5fa1f214-bf2d-4c88-956d-2b3ce514012d"
      },
      "execution_count": 60,
      "outputs": [
        {
          "output_type": "stream",
          "name": "stderr",
          "text": [
            "/usr/local/lib/python3.8/dist-packages/seaborn/_decorators.py:36: FutureWarning: Pass the following variable as a keyword arg: x. From version 0.12, the only valid positional argument will be `data`, and passing other arguments without an explicit keyword will result in an error or misinterpretation.\n",
            "  warnings.warn(\n"
          ]
        },
        {
          "output_type": "execute_result",
          "data": {
            "text/plain": [
              "<AxesSubplot:xlabel='writing', ylabel='count'>"
            ]
          },
          "metadata": {},
          "execution_count": 60
        },
        {
          "output_type": "display_data",
          "data": {
            "text/plain": [
              "<Figure size 1152x432 with 2 Axes>"
            ],
            "image/png": "[encoded data removed]"
          },
          "metadata": {}
        }
      ]
    },
    {
      "cell_type": "code",
      "source": [
        "paragraph['Writer'] = paragraph['Writer'].astype('category')"
      ],
      "metadata": {
        "id": "FAvfBoeCLfeZ"
      },
      "execution_count": 75,
      "outputs": []
    },
    {
      "cell_type": "code",
      "source": [
        "sns.set(rc={\"figure.figsize\":(16, 6)}) \n",
        "sns.countplot(paragraph['Writer'].value_counts())"
      ],
      "metadata": {
        "colab": {
          "base_uri": "https://localhost:8080/",
          "height": 466
        },
        "id": "-3ph9QQALjxp",
        "outputId": "45883e6a-e5b6-4123-bcf9-ddac93271f14"
      },
      "execution_count": 77,
      "outputs": [
        {
          "output_type": "stream",
          "name": "stderr",
          "text": [
            "/usr/local/lib/python3.8/dist-packages/seaborn/_decorators.py:36: FutureWarning: Pass the following variable as a keyword arg: x. From version 0.12, the only valid positional argument will be `data`, and passing other arguments without an explicit keyword will result in an error or misinterpretation.\n",
            "  warnings.warn(\n"
          ]
        },
        {
          "output_type": "execute_result",
          "data": {
            "text/plain": [
              "<AxesSubplot:xlabel='Writer', ylabel='count'>"
            ]
          },
          "metadata": {},
          "execution_count": 77
        },
        {
          "output_type": "display_data",
          "data": {
            "text/plain": [
              "<Figure size 1152x432 with 1 Axes>"
            ],
            "image/png": "[encoded data removed]"
          },
          "metadata": {}
        }
      ]
    }
  ]
}